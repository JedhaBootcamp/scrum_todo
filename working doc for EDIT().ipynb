{
 "cells": [
  {
   "cell_type": "code",
   "execution_count": 26,
   "metadata": {},
   "outputs": [],
   "source": [
    "class To_do:\n",
    "    def __init__(self, todo=[]):\n",
    "        self.todo = todo\n",
    "        self.quit_program = \"\"\n",
    "\n",
    "    def edit(self):\n",
    "        try:           \n",
    "            l = int(input(\"Veuillez choisir un numéro d'item à modifier: \"))\n",
    "                    \n",
    "        except:\n",
    "            print(\"Ceci n'est pas un numero d'item\")\n",
    "                    \n",
    "        else:\n",
    "            v = input(\"Veuillez renseigner un nouveau contenu pour cette item: \")\n",
    "            self.todo[l-1] = v\n",
    "            self.write()\n",
    "            \n",
    "    ######## CODE ########\n",
    "\n",
    "\n",
    "\n",
    "todo = To_do()\n",
    "# self.todo = [\"task 1\", \"task 2\", \"task 3\"]\n",
    "# todo.edit()"
   ]
  },
  {
   "cell_type": "code",
   "execution_count": 27,
   "metadata": {},
   "outputs": [
    {
     "name": "stdout",
     "output_type": "stream",
     "text": [
      "Veuillez choisir un numéro d'item à modifier: aze\n",
      "Ceci n'est pas un numero d'item\n"
     ]
    }
   ],
   "source": [
    "todo.edit()"
   ]
  },
  {
   "cell_type": "code",
   "execution_count": null,
   "metadata": {},
   "outputs": [],
   "source": []
  }
 ],
 "metadata": {
  "kernelspec": {
   "display_name": "Python 3",
   "language": "python",
   "name": "python3"
  },
  "language_info": {
   "codemirror_mode": {
    "name": "ipython",
    "version": 3
   },
   "file_extension": ".py",
   "mimetype": "text/x-python",
   "name": "python",
   "nbconvert_exporter": "python",
   "pygments_lexer": "ipython3",
   "version": "3.7.1"
  }
 },
 "nbformat": 4,
 "nbformat_minor": 2
}
